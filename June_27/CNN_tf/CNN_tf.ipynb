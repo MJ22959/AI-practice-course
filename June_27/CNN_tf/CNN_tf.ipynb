{
 "cells": [
  {
   "cell_type": "code",
   "execution_count": null,
   "metadata": {},
   "outputs": [],
   "source": [
    "import tensorflow as tf\n",
    "from tensorflow.examples.tutorials.mnist import input_data\n",
    "mnist = input_data.read_data_sets('/tmp/data/', one_hot = True)"
   ]
  },
  {
   "cell_type": "code",
   "execution_count": null,
   "metadata": {},
   "outputs": [],
   "source": [
    "n_classes = #TODO\n",
    "batch_size = 128"
   ]
  },
  {
   "cell_type": "code",
   "execution_count": null,
   "metadata": {},
   "outputs": [],
   "source": [
    "x = tf.placeholder('float', [None, 784])\n",
    "y = tf.placeholder('float')"
   ]
  },
  {
   "cell_type": "code",
   "execution_count": null,
   "metadata": {},
   "outputs": [],
   "source": [
    "keep_rate = #TODO\n",
    "keep_prob = tf.placeholder(tf.float32)"
   ]
  },
  {
   "cell_type": "code",
   "execution_count": null,
   "metadata": {},
   "outputs": [],
   "source": [
    "def conv2d(x, W): # no convolution over depth, just 2D\n",
    "    return tf.nn.conv2d(x, W, strides=[1,1,1,1], padding='SAME')\n",
    "\n",
    "\n",
    "def maxpool2d(x):\n",
    "    #                        size of window   movement of window       \n",
    "    return tf.nn.max_pool(x, ksize=[1,2,2,1], strides=[1,2,2,1], padding='SAME')"
   ]
  },
  {
   "cell_type": "code",
   "execution_count": null,
   "metadata": {},
   "outputs": [],
   "source": [
    "def convolutional_neural_network(x):\n",
    "    weights = {'W_conv1':tf.Variable(tf.random_normal([5,5,1,32])), \n",
    "               'W_conv2':tf.Variable(tf.random_normal([5,5,32,64])),\n",
    "               'W_fc':tf.Variable(tf.random_normal([7*7*64,1024])),  # after two max-pooling dimension is reduced by half each time, because stride = 2 and size = 2. Hence 28/2/2 = 7\n",
    "               'out':tf.Variable(tf.random_normal([1024, n_classes])) }\n",
    "    \n",
    "    biases = {'b_conv1':tf.Variable(tf.random_normal([32])), \n",
    "              'b_conv2':#TODO\n",
    "              'b_fc':#TODO\n",
    "              'out':tf.Variable(tf.random_normal([n_classes])) }\n",
    "    \n",
    "    x = tf.reshape(x, shape=[-1, 28, 28, 1])\n",
    "    \n",
    "    conv1 = tf.nn.relu(conv2d(x, weights['W_conv1']) + biases['TODO'])\n",
    "    conv1 = maxpool2d(conv1)\n",
    "    \n",
    "    conv2 = #TODO\n",
    "    conv2 = #TODO\n",
    "    \n",
    "    fc = tf.reshape(conv2,[-1, 7*7*64])\n",
    "    fc = tf.nn.relu(tf.matmul(fc, weights['TODO']) + biases['b_fc'])\n",
    "    \n",
    "    fc = tf.nn.dropout(fc, keep_rate)\n",
    "    \n",
    "    output = tf.matmul(fc, weights['out']) + biases['TODO']\n",
    "    \n",
    "    return output    "
   ]
  },
  {
   "cell_type": "code",
   "execution_count": null,
   "metadata": {},
   "outputs": [],
   "source": [
    "def train_neural_network(x):\n",
    "    prediction = convolutional_neural_network(x)\n",
    "    \n",
    "    cost = tf.reduce_mean(tf.nn.softmax_cross_entropy_with_logits(logits=prediction,labels=y))\n",
    "    optimizer = tf.train.AdamOptimizer(learning_rate=0.01).minimize('TODO')\n",
    "    \n",
    "    hm_epochs = 10\n",
    "    with tf.Session() as sess:\n",
    "        #TODO: Add global value initializer for TF\n",
    "        \n",
    "        for epoch in range(hm_epochs):\n",
    "            epoch_loss = 0\n",
    "            for _ in range(int(mnist.train.num_examples/batch_size)):\n",
    "                epoch_x, epoch_y = mnist.train.next_batch(batch_size)\n",
    "                _, c =sess.run([optimizer, cost], feed_dict ={x: epoch_x, y: epoch_y})\n",
    "                epoch_loss += c\n",
    "            print('Epoch', epoch, 'completed out of', hm_epochs, 'loss:', epoch_loss)\n",
    "        correct = tf.equal(tf.argmax(prediction, 1), tf.argmax(y,1))\n",
    "        \n",
    "        accuracy = tf.reduce_mean(tf.cast(correct, 'float'))\n",
    "        print('Accuracy:', accuracy.eval({x:mnist.test.images, y:mnist.test.labels}))\n",
    "        \n",
    "#TODO: call the function to train the Neural net "
   ]
  }
 ],
 "metadata": {
  "kernelspec": {
   "display_name": "Python 3",
   "language": "python",
   "name": "python3"
  },
  "language_info": {
   "codemirror_mode": {
    "name": "ipython",
    "version": 3
   },
   "file_extension": ".py",
   "mimetype": "text/x-python",
   "name": "python",
   "nbconvert_exporter": "python",
   "pygments_lexer": "ipython3",
   "version": "3.6.8"
  }
 },
 "nbformat": 4,
 "nbformat_minor": 2
}
