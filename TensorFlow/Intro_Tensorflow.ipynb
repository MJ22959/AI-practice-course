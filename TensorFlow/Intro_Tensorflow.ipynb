{
 "cells": [
  {
   "cell_type": "markdown",
   "metadata": {},
   "source": [
    "### Hello World Example"
   ]
  },
  {
   "cell_type": "markdown",
   "metadata": {},
   "source": [
    "1. Import tensorflow\n",
    "2. Create a tensor\n",
    "3. Execute it"
   ]
  },
  {
   "cell_type": "code",
   "execution_count": null,
   "metadata": {},
   "outputs": [],
   "source": [
    "import tensorflow as tf\n",
    "import numpy as np\n",
    "import matplotlib.pyplot as plt"
   ]
  },
  {
   "cell_type": "code",
   "execution_count": null,
   "metadata": {},
   "outputs": [],
   "source": [
    "tf.__version__"
   ]
  },
  {
   "cell_type": "markdown",
   "metadata": {},
   "source": [
    "There are two fundamental data-types when we talk about tensorflow:\n",
    "    1. Operation (nodes in our graphs)\n",
    "    2. Tensor (edges in our graphs)"
   ]
  },
  {
   "cell_type": "markdown",
   "metadata": {},
   "source": [
    "`tf.constant()` will result in a tensor."
   ]
  },
  {
   "cell_type": "code",
   "execution_count": null,
   "metadata": {},
   "outputs": [],
   "source": [
    "hello= tf.constant(name='op1', value='Hello World!')"
   ]
  },
  {
   "cell_type": "code",
   "execution_count": null,
   "metadata": {},
   "outputs": [],
   "source": [
    "hello1 = tf.constant('Hello World!')"
   ]
  },
  {
   "cell_type": "code",
   "execution_count": null,
   "metadata": {},
   "outputs": [],
   "source": [
    "print(hello)"
   ]
  },
  {
   "cell_type": "markdown",
   "metadata": {},
   "source": [
    "As we see above, our value is missing from the output. To execute the value, we need an active session."
   ]
  },
  {
   "cell_type": "code",
   "execution_count": null,
   "metadata": {},
   "outputs": [],
   "source": [
    "with tf.Session() as sess:\n",
    "    print (sess.run(hello))"
   ]
  },
  {
   "cell_type": "markdown",
   "metadata": {},
   "source": [
    "Example: Add two numbers using tensorflow:"
   ]
  },
  {
   "cell_type": "code",
   "execution_count": null,
   "metadata": {},
   "outputs": [],
   "source": [
    "a = tf.constant(3)\n",
    "b = tf.constant(5)\n",
    "c= a + b"
   ]
  },
  {
   "cell_type": "code",
   "execution_count": null,
   "metadata": {},
   "outputs": [],
   "source": [
    "print(c)"
   ]
  },
  {
   "cell_type": "code",
   "execution_count": null,
   "metadata": {},
   "outputs": [],
   "source": [
    "with tf.Session() as sess:\n",
    "    print (sess.run(c))"
   ]
  },
  {
   "cell_type": "markdown",
   "metadata": {},
   "source": [
    "Computational Graph:\n",
    "    1. Dataflow Programming (e.g. Unix pipes, Tensorflow)\n",
    "    2. Control Flow Programming (e.g. Assembly Languages)"
   ]
  },
  {
   "cell_type": "markdown",
   "metadata": {},
   "source": [
    "Lazy Execution vs Eager Execution:\n",
    "    \n",
    "    1. Lazy execution : \n",
    "        - execution on `sess.run()` Note: `sess.run()` does not execute the complete execution Graph, only  executes the required subgraph to obtain the output\n",
    "        - explicit session scope is required\n",
    "        \n",
    "    2. Eager execution :\n",
    "        - execution on function call\n",
    "        - defining session is no longer required\n",
    "                     "
   ]
  },
  {
   "cell_type": "markdown",
   "metadata": {},
   "source": [
    "## Matrix Vector Multiplication"
   ]
  },
  {
   "cell_type": "code",
   "execution_count": null,
   "metadata": {},
   "outputs": [],
   "source": [
    "mat = tf.constant([[2,3],[1,2],[5,6]])\n",
    "\n",
    "vec = tf.constant([[1],[2]])"
   ]
  },
  {
   "cell_type": "code",
   "execution_count": null,
   "metadata": {},
   "outputs": [],
   "source": [
    "print(mat)\n",
    "print(mat.shape)\n",
    "print(mat.dtype)"
   ]
  },
  {
   "cell_type": "code",
   "execution_count": null,
   "metadata": {},
   "outputs": [],
   "source": [
    "out = tf.matmul(mat,vec)"
   ]
  },
  {
   "cell_type": "code",
   "execution_count": null,
   "metadata": {},
   "outputs": [],
   "source": [
    "print(out)"
   ]
  },
  {
   "cell_type": "code",
   "execution_count": null,
   "metadata": {},
   "outputs": [],
   "source": [
    "print(out.op) # view the operation that created the ouput"
   ]
  },
  {
   "cell_type": "code",
   "execution_count": null,
   "metadata": {},
   "outputs": [],
   "source": [
    "with tf.Session() as sess:\n",
    "    print(sess.run(out))"
   ]
  },
  {
   "cell_type": "markdown",
   "metadata": {},
   "source": [
    "## Understanding Graph"
   ]
  },
  {
   "cell_type": "code",
   "execution_count": null,
   "metadata": {},
   "outputs": [],
   "source": [
    "a = tf.constant(name = 'op', value = 500) # name is the name of the operation which creates this"
   ]
  },
  {
   "cell_type": "code",
   "execution_count": null,
   "metadata": {},
   "outputs": [],
   "source": [
    "print(a) # shape is empty because it is a constant value"
   ]
  },
  {
   "cell_type": "code",
   "execution_count": null,
   "metadata": {},
   "outputs": [],
   "source": [
    "a = tf.constant(name = 'op', value = 1000)"
   ]
  },
  {
   "cell_type": "code",
   "execution_count": null,
   "metadata": {},
   "outputs": [],
   "source": [
    "print(a)"
   ]
  },
  {
   "cell_type": "markdown",
   "metadata": {},
   "source": [
    "Let us look at the Graph:"
   ]
  },
  {
   "cell_type": "code",
   "execution_count": null,
   "metadata": {},
   "outputs": [],
   "source": [
    "graph = tf.get_default_graph()"
   ]
  },
  {
   "cell_type": "code",
   "execution_count": null,
   "metadata": {},
   "outputs": [],
   "source": [
    "b = graph.get_tensor_by_name('op:0')\n",
    "#b = graph.get_tensor_by_name('op_1:0')"
   ]
  },
  {
   "cell_type": "code",
   "execution_count": null,
   "metadata": {},
   "outputs": [],
   "source": [
    "with tf.Session() as sess:\n",
    "    print(sess.run(b))"
   ]
  },
  {
   "cell_type": "code",
   "execution_count": null,
   "metadata": {},
   "outputs": [],
   "source": [
    "for op in graph.get_operations():\n",
    "    print (op)"
   ]
  },
  {
   "cell_type": "markdown",
   "metadata": {},
   "source": [
    "## Different ways of Executing Tensor"
   ]
  },
  {
   "cell_type": "code",
   "execution_count": null,
   "metadata": {},
   "outputs": [],
   "source": [
    "a = tf.constant(2)\n",
    "b = tf.constant(3)"
   ]
  },
  {
   "cell_type": "code",
   "execution_count": null,
   "metadata": {},
   "outputs": [],
   "source": [
    "c = a + b"
   ]
  },
  {
   "cell_type": "markdown",
   "metadata": {},
   "source": [
    "#### First way:"
   ]
  },
  {
   "cell_type": "code",
   "execution_count": null,
   "metadata": {},
   "outputs": [],
   "source": [
    "with tf.Session() as sess:\n",
    "    print(c.eval())  # Remember, in the previous we used sess.run(c)"
   ]
  },
  {
   "cell_type": "markdown",
   "metadata": {},
   "source": [
    "#### Second way:"
   ]
  },
  {
   "cell_type": "code",
   "execution_count": null,
   "metadata": {},
   "outputs": [],
   "source": [
    "with tf.Session() as sess:\n",
    "    print(sess.run([c,a,b]))  # with sess.run(), we can execute multiple variables"
   ]
  },
  {
   "cell_type": "markdown",
   "metadata": {},
   "source": [
    "#### Third way:"
   ]
  },
  {
   "cell_type": "code",
   "execution_count": null,
   "metadata": {},
   "outputs": [],
   "source": [
    "sess = tf.Session()\n",
    "print(c.eval(session=sess))"
   ]
  },
  {
   "cell_type": "markdown",
   "metadata": {},
   "source": [
    "#### Executing operation:"
   ]
  },
  {
   "cell_type": "code",
   "execution_count": null,
   "metadata": {},
   "outputs": [],
   "source": [
    "with tf.Session() as sess:\n",
    "    print(sess.run(c.op))   # It executes operation but no output"
   ]
  },
  {
   "cell_type": "code",
   "execution_count": null,
   "metadata": {},
   "outputs": [],
   "source": [
    "with tf.Session() as sess:\n",
    "    print(c.op.run())"
   ]
  },
  {
   "cell_type": "markdown",
   "metadata": {},
   "source": [
    "### Variable in Tensorflow"
   ]
  },
  {
   "cell_type": "markdown",
   "metadata": {},
   "source": [
    "We talked about `constant` and `placeholder`, two ways of creating a tensor:"
   ]
  },
  {
   "cell_type": "code",
   "execution_count": null,
   "metadata": {},
   "outputs": [],
   "source": [
    "a = tf.constant(3)   # Use case: hyperparameters\n",
    "b = tf.placeholder(tf.float32) # Use case: Input and output, as we are constantly changing the values"
   ]
  },
  {
   "cell_type": "code",
   "execution_count": null,
   "metadata": {},
   "outputs": [],
   "source": [
    "# Use case: For parameters or weights of out model. For any kind of data which maintains a certain state, we use a variable\n",
    "\n",
    "c = tf.Variable(5)\n",
    "\n",
    "\n",
    "# Note: Variables are the only way to store something in an active session. The constants and placeholders are not stored in sessions"
   ]
  },
  {
   "cell_type": "code",
   "execution_count": null,
   "metadata": {},
   "outputs": [],
   "source": [
    "# Uncomment and run\n",
    "#with tf.Session() as sess: \n",
    "#    print(sess.run(c))"
   ]
  },
  {
   "cell_type": "code",
   "execution_count": null,
   "metadata": {},
   "outputs": [],
   "source": [
    "# We got an error, because for Variables we need to run an initializer first to get it into the session"
   ]
  },
  {
   "cell_type": "code",
   "execution_count": null,
   "metadata": {},
   "outputs": [],
   "source": [
    "with tf.Session() as sess:\n",
    "    sess.run(c.initializer)\n",
    "    print(sess.run(c))"
   ]
  },
  {
   "cell_type": "code",
   "execution_count": null,
   "metadata": {},
   "outputs": [],
   "source": [
    "c = tf.get_variable(name=\"myVar\", shape=(), dtype = tf.float32) # Can't be run twice, as the var name is already used "
   ]
  },
  {
   "cell_type": "code",
   "execution_count": null,
   "metadata": {},
   "outputs": [],
   "source": [
    "var1 = tf.get_variable(name=\"myVar1\", shape=(), dtype = tf.float32, initializer=tf.zeros_initializer())\n",
    "var2 = tf.get_variable(name=\"myVar2\", shape=(), dtype = tf.float32, initializer=tf.ones_initializer())\n",
    "var3 = tf.get_variable(name=\"myVar3\", shape=(), dtype = tf.float32, initializer=tf.random_uniform_initializer())"
   ]
  },
  {
   "cell_type": "code",
   "execution_count": null,
   "metadata": {},
   "outputs": [],
   "source": [
    "with tf.Session() as sess:\n",
    "    sess.run(var1.initializer) # values are assigned only once the initializer is called\n",
    "    sess.run(var2.initializer)\n",
    "    var3.initializer.run()  # another way to initialize, as this is not yet a tensor\n",
    "    \n",
    "    print(sess.run([var1, var2, var3]))"
   ]
  },
  {
   "cell_type": "code",
   "execution_count": null,
   "metadata": {},
   "outputs": [],
   "source": [
    "# Run the above in loop\n",
    "\n",
    "with tf.Session() as sess:\n",
    "    for i in range(10):\n",
    "        sess.run(var1.initializer)\n",
    "        sess.run(var2.initializer)\n",
    "        var3.initializer.run() \n",
    "        print(sess.run([var1, var2, var3]))"
   ]
  },
  {
   "cell_type": "code",
   "execution_count": null,
   "metadata": {},
   "outputs": [],
   "source": [
    "with tf.Session() as sess:\n",
    "    var3.initializer.run()\n",
    "    for i in range(10):\n",
    "        sess.run(var1.initializer)\n",
    "        sess.run(var2.initializer)         \n",
    "        print(sess.run([var1, var2, var3])) # initializer for var3 not called in loop so no new val assigned in newer iterations"
   ]
  },
  {
   "cell_type": "code",
   "execution_count": null,
   "metadata": {},
   "outputs": [],
   "source": [
    "var4 = tf.get_variable(name=\"myVar4\", shape=(), dtype = tf.float32, initializer=tf.zeros_initializer())\n",
    "var5 = tf.get_variable(name=\"myVar5\", shape=(), dtype = tf.float32, initializer=tf.ones_initializer())\n",
    "var6 = tf.get_variable(name=\"myVar6\", shape=(), dtype = tf.float32, initializer=tf.random_uniform_initializer())"
   ]
  },
  {
   "cell_type": "code",
   "execution_count": null,
   "metadata": {},
   "outputs": [],
   "source": [
    "a = tf.constant(5.0)\n",
    "op4 = var4.assign(3)\n",
    "op5 = var5.assign(var5 + 4)\n",
    "op6 = var6.assign(a + var6)"
   ]
  },
  {
   "cell_type": "code",
   "execution_count": null,
   "metadata": {},
   "outputs": [],
   "source": [
    "with tf.Session() as sess:\n",
    "    var4.initializer.run()\n",
    "    var5.initializer.run()\n",
    "    var6.initializer.run()\n",
    "    for i in range(10):\n",
    "        sess.run(op4)\n",
    "        sess.run(op5)       \n",
    "        sess.run(op6)\n",
    "        print(sess.run([var4, var5, var6]))"
   ]
  },
  {
   "cell_type": "markdown",
   "metadata": {},
   "source": [
    "### Calculating Gradient in Tensorflow"
   ]
  },
  {
   "cell_type": "code",
   "execution_count": null,
   "metadata": {},
   "outputs": [],
   "source": [
    "x = tf.placeholder(tf.float32)"
   ]
  },
  {
   "cell_type": "code",
   "execution_count": null,
   "metadata": {},
   "outputs": [],
   "source": [
    "y = tf.placeholder(tf.float32)"
   ]
  },
  {
   "cell_type": "code",
   "execution_count": null,
   "metadata": {},
   "outputs": [],
   "source": [
    "fxy = x*x + y*y"
   ]
  },
  {
   "cell_type": "code",
   "execution_count": null,
   "metadata": {},
   "outputs": [],
   "source": [
    "grad = tf.gradients(fxy,[x,y])"
   ]
  },
  {
   "cell_type": "code",
   "execution_count": null,
   "metadata": {},
   "outputs": [],
   "source": [
    "with tf.Session() as sess:\n",
    "    print(sess.run(grad, feed_dict = {x:2, y:3}))"
   ]
  },
  {
   "cell_type": "markdown",
   "metadata": {},
   "source": [
    "### Linear Regression in Tensorflow"
   ]
  },
  {
   "cell_type": "code",
   "execution_count": null,
   "metadata": {},
   "outputs": [],
   "source": [
    "dummy_x = np.random.random((1000))"
   ]
  },
  {
   "cell_type": "code",
   "execution_count": null,
   "metadata": {},
   "outputs": [],
   "source": [
    "dummy_y = 5*dummy_x + 3 + 0.1 * np.random.randn(1000) # SD = 0.1"
   ]
  },
  {
   "cell_type": "code",
   "execution_count": null,
   "metadata": {},
   "outputs": [],
   "source": [
    "plt.scatter(dummy_x,dummy_y, s = 0.1)"
   ]
  },
  {
   "cell_type": "code",
   "execution_count": null,
   "metadata": {},
   "outputs": [],
   "source": [
    "x = tf.placeholder(shape = (1000,), dtype=tf.float32)\n",
    "y = tf.placeholder(shape = (1000,), dtype=tf.float32)\n",
    "m = tf.get_variable(name = 'slope', dtype=tf.float32, shape=(), initializer=tf.ones_initializer())\n",
    "c = tf.get_variable(name = 'intercept', dtype=tf.float32, shape=(), initializer=tf.ones_initializer())"
   ]
  },
  {
   "cell_type": "code",
   "execution_count": null,
   "metadata": {},
   "outputs": [],
   "source": [
    "y_hat = m*x + c\n",
    "loss = tf.losses.mean_squared_error(y,y_hat)"
   ]
  },
  {
   "cell_type": "code",
   "execution_count": null,
   "metadata": {},
   "outputs": [],
   "source": [
    "optimizer = tf.train.GradientDescentOptimizer(learning_rate=0.5).minimize(loss)"
   ]
  },
  {
   "cell_type": "raw",
   "metadata": {},
   "source": [
    "with tf.Session() as sess:\n",
    "    m.initializer.run()\n",
    "    c.initializer.run()"
   ]
  },
  {
   "cell_type": "code",
   "execution_count": null,
   "metadata": {},
   "outputs": [],
   "source": [
    "# As it is not feasible to call an initializer each time in case we have hundreds of parameters, we have a better way:"
   ]
  },
  {
   "cell_type": "code",
   "execution_count": null,
   "metadata": {},
   "outputs": [],
   "source": [
    "with tf.Session() as sess:\n",
    "    init = tf.global_variables_initializer()\n",
    "    init.run()\n",
    "    for e in range(100):\n",
    "        # Now we will run the optimizer and loss  \n",
    "        _,val_loss = sess.run([optimizer,loss], feed_dict={x:dummy_x,y:dummy_y})    #  Dependencies are provided as feed dictionaries \n",
    "        # Note: For optimizer, we just assigned '_' because it gives no output of interest\n",
    "\n",
    "        print('loss =', val_loss, 'm = ',m.eval(),'c =',c.eval())"
   ]
  },
  {
   "cell_type": "markdown",
   "metadata": {},
   "source": [
    "### Tensorboard: Introduction"
   ]
  },
  {
   "cell_type": "code",
   "execution_count": null,
   "metadata": {},
   "outputs": [],
   "source": [
    "writer = tf.summary.FileWriter(logdir = './',graph=tf.get_default_graph())"
   ]
  },
  {
   "cell_type": "markdown",
   "metadata": {},
   "source": [
    "Run `tensorboard --logdir='PATH'` in your shell to start tensorboard"
   ]
  },
  {
   "cell_type": "markdown",
   "metadata": {},
   "source": [
    "The tensorboard graph looks messy, to make the visualization better, we can use something called: Variable Scope"
   ]
  },
  {
   "cell_type": "markdown",
   "metadata": {},
   "source": [
    "#### Variable Scoping"
   ]
  },
  {
   "cell_type": "code",
   "execution_count": null,
   "metadata": {},
   "outputs": [],
   "source": [
    "with tf.variable_scope('myscope'):\n",
    "    abc = tf.constant(3)\n",
    "    xyz = tf.Variable(5)\n",
    "print('names',abc.name,xyz.name)"
   ]
  },
  {
   "cell_type": "code",
   "execution_count": null,
   "metadata": {},
   "outputs": [],
   "source": [
    "dummy_x1 = np.random.random((1000))\n",
    "dummy_y1 = 5*dummy_x1 + 3 + 0.1 * np.random.randn(1000) # SD = 0.1"
   ]
  },
  {
   "cell_type": "code",
   "execution_count": null,
   "metadata": {},
   "outputs": [],
   "source": [
    "x1 = tf.placeholder(shape = (1000,), dtype=tf.float32)\n",
    "y1 = tf.placeholder(shape = (1000,), dtype=tf.float32)\n",
    "\n",
    "with tf.variable_scope('parameters'):\n",
    "    m1 = tf.get_variable(name = 'slope1', dtype=tf.float32, shape=(), initializer=tf.ones_initializer())\n",
    "    c1 = tf.get_variable(name = 'intercept1', dtype=tf.float32, shape=(), initializer=tf.ones_initializer())"
   ]
  },
  {
   "cell_type": "code",
   "execution_count": null,
   "metadata": {},
   "outputs": [],
   "source": [
    "y1_hat = m1*x1 + c1\n",
    "with tf.variable_scope('loss_scope'):\n",
    "    loss1 = tf.losses.mean_squared_error(y1,y1_hat)"
   ]
  },
  {
   "cell_type": "code",
   "execution_count": null,
   "metadata": {},
   "outputs": [],
   "source": [
    "with tf.variable_scope('optimizer_scope'):\n",
    "    optimizer1 = tf.train.GradientDescentOptimizer(learning_rate=0.5).minimize(loss1)"
   ]
  },
  {
   "cell_type": "code",
   "execution_count": null,
   "metadata": {},
   "outputs": [],
   "source": [
    "with tf.Session() as sess:\n",
    "    m1.initializer.run()\n",
    "    c1.initializer.run()"
   ]
  },
  {
   "cell_type": "code",
   "execution_count": null,
   "metadata": {},
   "outputs": [],
   "source": [
    "with tf.Session() as sess:\n",
    "    init = tf.global_variables_initializer()\n",
    "    init.run()\n",
    "    for e in range(100):\n",
    "        # Now we will run the optimizer and loss  \n",
    "        _,val_loss_1 = sess.run([optimizer1,loss1], feed_dict={x1:dummy_x1,y1:dummy_y1})    #  Dependencies are provided as feed dictionaries \n",
    "        # Note: For optimizer, we just assigned '_' because it gives no output of interest\n",
    "\n",
    "        print('loss =', val_loss_1, 'm = ',m1.eval(),'c =',c1.eval())"
   ]
  },
  {
   "cell_type": "code",
   "execution_count": null,
   "metadata": {},
   "outputs": [],
   "source": [
    "writer = tf.summary.FileWriter(logdir = './',graph=tf.get_default_graph())"
   ]
  },
  {
   "cell_type": "markdown",
   "metadata": {},
   "source": [
    "### Plotting real-time loss in Tensorflow"
   ]
  },
  {
   "cell_type": "markdown",
   "metadata": {},
   "source": [
    "To compare for different learning rates, we will keep our learning rate in our optimizer not as a value but as a placeholder"
   ]
  },
  {
   "cell_type": "code",
   "execution_count": null,
   "metadata": {},
   "outputs": [],
   "source": [
    "dummy_x2 = np.random.random((1000))\n",
    "dummy_y2 = 5*dummy_x2 + 3 + 0.1 * np.random.randn(1000) # SD = 0.1"
   ]
  },
  {
   "cell_type": "code",
   "execution_count": null,
   "metadata": {},
   "outputs": [],
   "source": [
    "x2 = tf.placeholder(shape = (1000,), dtype=tf.float32)\n",
    "y2 = tf.placeholder(shape = (1000,), dtype=tf.float32)"
   ]
  },
  {
   "cell_type": "code",
   "execution_count": null,
   "metadata": {},
   "outputs": [],
   "source": [
    "with tf.variable_scope('parameters'):\n",
    "    m2 = tf.get_variable(name = 'slope2', dtype=tf.float32, shape=(), initializer=tf.ones_initializer())\n",
    "    c2 = tf.get_variable(name = 'intercept2', dtype=tf.float32, shape=(), initializer=tf.ones_initializer())"
   ]
  },
  {
   "cell_type": "code",
   "execution_count": null,
   "metadata": {},
   "outputs": [],
   "source": [
    "learning_rate_placeholder = tf.placeholder(shape=(),dtype=tf.float32) # Here"
   ]
  },
  {
   "cell_type": "code",
   "execution_count": null,
   "metadata": {},
   "outputs": [],
   "source": [
    "y2_hat = m2*x2 + c2\n",
    "with tf.variable_scope('loss_scope'):\n",
    "    loss2 = tf.losses.mean_squared_error(y2,y2_hat)\n",
    "    tf.summary.scalar('loss2', loss2)"
   ]
  },
  {
   "cell_type": "code",
   "execution_count": null,
   "metadata": {},
   "outputs": [],
   "source": [
    "with tf.variable_scope('optimizer_scope'):\n",
    "    optimizer2 = tf.train.GradientDescentOptimizer(learning_rate=learning_rate_placeholder).minimize(loss2)"
   ]
  },
  {
   "cell_type": "code",
   "execution_count": null,
   "metadata": {},
   "outputs": [],
   "source": [
    "with tf.Session() as sess:\n",
    "    m2.initializer.run()\n",
    "    c2.initializer.run()"
   ]
  },
  {
   "cell_type": "code",
   "execution_count": null,
   "metadata": {},
   "outputs": [],
   "source": [
    "with tf.Session() as sess:\n",
    "    for lr in [0.5,0.1,0.05,0.01,0.005]:\n",
    "        writer = tf.summary.FileWriter('log/lr-'+str(lr))\n",
    "        init = tf.global_variables_initializer()\n",
    "        init.run()\n",
    "        for e in range(100):\n",
    "            merged_summ = tf.summary.merge_all()\n",
    "            a_,val_loss_2,summ_output = sess.run([optimizer2,loss2,merged_summ], feed_dict={x2:dummy_x2,y2:dummy_y2, learning_rate_placeholder:lr})\n",
    "            print('loss =', val_loss_2, 'm = ',m2.eval(),'c =',c2.eval())\n",
    "            writer.add_summary(summ_output,e)"
   ]
  },
  {
   "cell_type": "markdown",
   "metadata": {},
   "source": [
    "## Getting Started with Neural Networks"
   ]
  },
  {
   "cell_type": "code",
   "execution_count": null,
   "metadata": {},
   "outputs": [],
   "source": [
    "# TODO"
   ]
  }
 ],
 "metadata": {
  "kernelspec": {
   "display_name": "Python 3",
   "language": "python",
   "name": "python3"
  },
  "language_info": {
   "codemirror_mode": {
    "name": "ipython",
    "version": 3
   },
   "file_extension": ".py",
   "mimetype": "text/x-python",
   "name": "python",
   "nbconvert_exporter": "python",
   "pygments_lexer": "ipython3",
   "version": "3.6.6"
  }
 },
 "nbformat": 4,
 "nbformat_minor": 2
}
