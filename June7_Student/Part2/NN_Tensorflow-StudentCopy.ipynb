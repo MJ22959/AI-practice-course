{
 "cells": [
  {
   "cell_type": "markdown",
   "metadata": {},
   "source": [
    "## Getting Started with Neural Networks"
   ]
  },
  {
   "cell_type": "code",
   "execution_count": null,
   "metadata": {},
   "outputs": [],
   "source": [
    "from sklearn.datasets import load_iris\n",
    "import tensorflow as tf\n",
    "import numpy as np\n",
    "import matplotlib.pyplot as plt"
   ]
  },
  {
   "cell_type": "markdown",
   "metadata": {},
   "source": [
    "#### First step: Load the dataset"
   ]
  },
  {
   "cell_type": "code",
   "execution_count": null,
   "metadata": {},
   "outputs": [],
   "source": [
    "ds = load_iris()"
   ]
  },
  {
   "cell_type": "markdown",
   "metadata": {},
   "source": [
    "#### Define suitable variables and constants (weights / biases)"
   ]
  },
  {
   "cell_type": "code",
   "execution_count": null,
   "metadata": {},
   "outputs": [],
   "source": [
    "x = tf.placeholder(shape=(None,4),dtype=tf.float32) # As we are using SGD, we are just taking one example, hence (1,4)\n",
    "y = 'TODO' # None instead of 1 because we want to pass either batch, all, one input etc, so flexible input\n",
    "w_xh = tf.get_variable(name='input-hidden',shape=(4,5),dtype= tf.float32, initializer=tf.random_normal_initializer())\n",
    "w_hy = 'TODO'"
   ]
  },
  {
   "cell_type": "code",
   "execution_count": null,
   "metadata": {},
   "outputs": [],
   "source": [
    "b_xh = tf.get_variable(name='input-hidden-bias',shape=(1,5),dtype= tf.float32, initializer=tf.random_normal_initializer())\n",
    "b_hy = 'TODO'"
   ]
  },
  {
   "cell_type": "code",
   "execution_count": null,
   "metadata": {},
   "outputs": [],
   "source": [
    "def build_model(x):\n",
    "    with tf.variable_scope('hidden'):\n",
    "        h = tf.nn.sigmoid(tf.matmul(x, w_xh)+b_xh)\n",
    "        #print(h.shape)\n",
    "    with tf.variable_scope('output'):    \n",
    "        y_pred = tf.nn.softmax('TODO')\n",
    "        #print(y_pred.shape)\n",
    "    return y_pred;"
   ]
  },
  {
   "cell_type": "code",
   "execution_count": null,
   "metadata": {},
   "outputs": [],
   "source": [
    "y_pred = 'TODO'"
   ]
  },
  {
   "cell_type": "markdown",
   "metadata": {},
   "source": [
    "#### Define loss and optimizer:"
   ]
  },
  {
   "cell_type": "code",
   "execution_count": null,
   "metadata": {},
   "outputs": [],
   "source": [
    "loss = tf.losses.softmax_cross_entropy(onehot_labels=y, logits=y_pred) \n",
    "optimizer = tf.train.AdamOptimizer(learning_rate='TODO').minimize(loss)"
   ]
  },
  {
   "cell_type": "code",
   "execution_count": null,
   "metadata": {},
   "outputs": [],
   "source": [
    "from sklearn.preprocessing import OneHotEncoder\n",
    "\n",
    "encoder = OneHotEncoder()\n",
    "labels = encoder.fit_transform(np.array(ds.target).reshape(-1,1))\n",
    "print(labels.shape)\n",
    "labels = labels.todense()"
   ]
  },
  {
   "cell_type": "code",
   "execution_count": null,
   "metadata": {},
   "outputs": [],
   "source": [
    "ds.data"
   ]
  },
  {
   "cell_type": "code",
   "execution_count": null,
   "metadata": {},
   "outputs": [],
   "source": [
    "from sklearn.model_selection import train_test_split\n",
    "\n",
    "trainx, 'TODO', trainy, testy = train_test_split(ds.data,labels)\n",
    "\n",
    "print(trainx.shape)\n",
    "print(trainy.shape)"
   ]
  },
  {
   "cell_type": "code",
   "execution_count": null,
   "metadata": {},
   "outputs": [],
   "source": [
    "accuracy = tf.reduce_mean(tf.cast(tf.equal(tf.argmax(y,axis=1),tf.argmax(y_pred, axis=1)),tf.float32))\n",
    "\n",
    "# tf.reduce_mean will divide number of times there are one by the number of elements "
   ]
  },
  {
   "cell_type": "code",
   "execution_count": null,
   "metadata": {},
   "outputs": [],
   "source": [
    "with tf.Session() as sess:\n",
    "    init = tf.global_variables_initializer()\n",
    "    sess.run(init)\n",
    "    for e in range(300):\n",
    "        _,loss_val,train_accuracy = sess.run([optimizer, loss, accuracy], feed_dict={x:trainx,y:trainy})\n",
    "        test_accuracy = accuracy.eval(feed_dict={x:testx,y:testy})\n",
    "        print(loss_val, train_accuracy, test_accuracy)"
   ]
  },
  {
   "cell_type": "code",
   "execution_count": null,
   "metadata": {},
   "outputs": [],
   "source": [
    "writer = tf.summary.FileWriter(logdir='nn', graph=tf.get_default_graph())"
   ]
  },
  {
   "cell_type": "code",
   "execution_count": null,
   "metadata": {},
   "outputs": [],
   "source": [
    "# TODO: Plot the accuracy for different learning rate"
   ]
  }
 ],
 "metadata": {
  "kernelspec": {
   "display_name": "Python 3",
   "language": "python",
   "name": "python3"
  },
  "language_info": {
   "codemirror_mode": {
    "name": "ipython",
    "version": 3
   },
   "file_extension": ".py",
   "mimetype": "text/x-python",
   "name": "python",
   "nbconvert_exporter": "python",
   "pygments_lexer": "ipython3",
   "version": "3.7.1"
  }
 },
 "nbformat": 4,
 "nbformat_minor": 2
}
